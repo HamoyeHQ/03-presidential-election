{
 "cells": [
  {
   "cell_type": "markdown",
   "metadata": {},
   "source": [
    "!pip3 install kfp --upgrade --user"
   ]
  },
  {
   "cell_type": "markdown",
   "metadata": {},
   "source": [
    "# Presidential Election pipeline"
   ]
  },
  {
   "cell_type": "code",
   "execution_count": 1,
   "metadata": {},
   "outputs": [],
   "source": [
    "EXPERIMENT_NAME = 'used-cars'"
   ]
  },
  {
   "cell_type": "markdown",
   "metadata": {},
   "source": [
    "## Imports"
   ]
  },
  {
   "cell_type": "code",
   "execution_count": 2,
   "metadata": {},
   "outputs": [],
   "source": [
    "import kfp\n",
    "from kfp import dsl"
   ]
  },
  {
   "cell_type": "markdown",
   "metadata": {},
   "source": [
    "## Load components"
   ]
  },
  {
   "cell_type": "code",
   "execution_count": 3,
   "metadata": {},
   "outputs": [],
   "source": [
    "def preprocess_op():\n",
    "\n",
    "    return dsl.ContainerOp(\n",
    "        name='Preprocess Data',\n",
    "        image='gcr.io/used-cars-298619/used_cars_pipeline_preprocessing:latest',\n",
    "        arguments=[],\n",
    "        file_outputs={\n",
    "            'X_train': '/app/X_train.npy',\n",
    "            'X_test': '/app/X_test.npy',\n",
    "            'y_train': '/app/y_train.npy',\n",
    "            'y_test': '/app/y_test.npy',\n",
    "        }\n",
    "    )\n",
    "\n",
    "def train_op(X_train, y_train):\n",
    "\n",
    "    return dsl.ContainerOp(\n",
    "        name='Train Model',\n",
    "        image='gcr.io/used-cars-298619/used_cars_pipeline_training:latest',\n",
    "        arguments=[\n",
    "            '--X_train', X_train,\n",
    "            '--y_train', y_train\n",
    "        ],\n",
    "        file_outputs={\n",
    "            'model': '/app/model.pkl'\n",
    "        }\n",
    "    )\n",
    "\n",
    "def test_op(X_test, y_test, model):\n",
    "\n",
    "    return dsl.ContainerOp(\n",
    "        name='Test Model',\n",
    "        image='cr.io/used-cars-298619/used_cars_pipeline_test:latest',\n",
    "        arguments=[\n",
    "            '--X_test', X_test,\n",
    "            '--y_test', y_test,\n",
    "            '--model', model\n",
    "        ],\n",
    "        file_outputs={\n",
    "            'mean_squared_error': '/app/model_result.'\n",
    "        }\n",
    "    )\n",
    "\n",
    "def deploy_model_op(model):\n",
    "\n",
    "    return dsl.ContainerOp(\n",
    "        name='Deploy Model',\n",
    "        image='gcr.io/used-cars-298619/used_cars_pipeline_deploy:latest',\n",
    "        arguments=[\n",
    "            '--model', model\n",
    "        ]\n",
    "    )"
   ]
  },
  {
   "cell_type": "markdown",
   "metadata": {},
   "source": [
    "## Build the Pipeline "
   ]
  },
  {
   "cell_type": "code",
   "execution_count": 4,
   "metadata": {},
   "outputs": [],
   "source": [
    "@dsl.pipeline(\n",
    "   name='Used Cars Pipeline',\n",
    "   description='Used Cars pipeline that performs preprocessing, training, evaluation and model deployment.'\n",
    ")\n",
    "def presidential_pipeline():\n",
    "    _preprocess_op = preprocess_op()\n",
    "\n",
    "    _train_op = train_op(\n",
    "        dsl.InputArgumentPath(_preprocess_op.outputs['X_train']),\n",
    "        dsl.InputArgumentPath(_preprocess_op.outputs['y_train'])\n",
    "    ).after(_preprocess_op)\n",
    "\n",
    "    _test_op = test_op(\n",
    "        dsl.InputArgumentPath(_preprocess_op.outputs['X_test']),\n",
    "        dsl.InputArgumentPath(_preprocess_op.outputs['y_test']),\n",
    "        dsl.InputArgumentPath(_train_op.outputs['model'])\n",
    "    ).after(_train_op)\n",
    "\n",
    "    deploy_model_op(\n",
    "        dsl.InputArgumentPath(_train_op.outputs['model'])\n",
    "    ).after(_test_op)"
   ]
  },
  {
   "cell_type": "markdown",
   "metadata": {},
   "source": [
    "## Compile the Pipeline"
   ]
  },
  {
   "cell_type": "code",
   "execution_count": 5,
   "metadata": {},
   "outputs": [],
   "source": [
    "pipeline_func = presidential_pipeline\n",
    "pipeline_filename = pipeline_func.__name__ + '.pipeline.zip'\n",
    "\n",
    "import kfp.compiler as compiler\n",
    "compiler.Compiler().compile(pipeline_func, pipeline_filename)"
   ]
  },
  {
   "cell_type": "markdown",
   "metadata": {},
   "source": [
    "## Create a Kubeflow Experiment"
   ]
  },
  {
   "cell_type": "code",
   "execution_count": 6,
   "metadata": {},
   "outputs": [
    {
     "name": "stdout",
     "output_type": "stream",
     "text": [
      "{'created_at': datetime.datetime(2020, 10, 11, 20, 16, 2, tzinfo=tzlocal()),\n",
      " 'description': None,\n",
      " 'id': '97a5e6d3-30c0-42f3-89cd-1bb5622d5ed7',\n",
      " 'name': 'presidential-election',\n",
      " 'resource_references': None,\n",
      " 'storage_state': None}\n"
     ]
    }
   ],
   "source": [
    "client = kfp.Client(host='pipelines-api.kubeflow.svc.cluster.local:8888')\n",
    "\n",
    "try:\n",
    "    experiment = client.get_experiment(experiment_name=EXPERIMENT_NAME)\n",
    "except:\n",
    "    experiment = client.create_experiment(EXPERIMENT_NAME)\n",
    "    \n",
    "print(experiment)"
   ]
  },
  {
   "cell_type": "markdown",
   "metadata": {},
   "source": [
    "## Run the Pipeline"
   ]
  },
  {
   "cell_type": "code",
   "execution_count": 7,
   "metadata": {},
   "outputs": [
    {
     "data": {
      "text/html": [
       "Run link <a href=\"http://pipelines-api.kubeflow.svc.cluster.local:8888/#/runs/details/b69ea6db-ef36-457a-9034-37a147532f23\" target=\"_blank\" >here</a>"
      ],
      "text/plain": [
       "<IPython.core.display.HTML object>"
      ]
     },
     "metadata": {},
     "output_type": "display_data"
    },
    {
     "name": "stdout",
     "output_type": "stream",
     "text": [
      "97a5e6d3-30c0-42f3-89cd-1bb5622d5ed7\n",
      "presidential_pipeline run\n",
      "presidential_pipeline.pipeline.zip\n",
      "{}\n"
     ]
    }
   ],
   "source": [
    "arguments = {}\n",
    "\n",
    "run_name = pipeline_func.__name__ + ' run'\n",
    "run_result = client.run_pipeline(experiment.id, \n",
    "                                 run_name, \n",
    "                                 pipeline_filename, \n",
    "                                 arguments)\n",
    "\n",
    "print(experiment.id)\n",
    "print(run_name)\n",
    "print(pipeline_filename)\n",
    "print(arguments)"
   ]
  }
 ],
 "metadata": {
  "kernelspec": {
   "display_name": "Python 3",
   "language": "python",
   "name": "python3"
  },
  "language_info": {
   "codemirror_mode": {
    "name": "ipython",
    "version": 3
   },
   "file_extension": ".py",
   "mimetype": "text/x-python",
   "name": "python",
   "nbconvert_exporter": "python",
   "pygments_lexer": "ipython3",
   "version": "3.7.6"
  }
 },
 "nbformat": 4,
 "nbformat_minor": 2
}
